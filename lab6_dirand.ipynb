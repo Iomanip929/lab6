{
 "cells": [
  {
   "cell_type": "code",
   "execution_count": 9,
   "metadata": {},
   "outputs": [
    {
     "name": "stdout",
     "output_type": "stream",
     "text": [
      "Directories:\n",
      "\n",
      "Files:\n",
      "LAB3.py\n",
      "git.ipynb\n",
      "lab3_t.ipynb\n",
      ".DS_Store\n",
      "lab3_func2.ipynb\n",
      "lab6_dirand.ipynb\n",
      "lab5_regex.ipynb\n",
      "lab3_func1.ipynb\n",
      "blackjack.ipynb\n",
      "lab4_generators.ipynb\n",
      "lab2.ipynb\n",
      "Ilka.ipynb\n",
      "lab4_math.ipynb\n",
      "lab4_date.ipynb\n",
      "lab6_builtin.ipynb\n",
      "sample-data.json\n",
      "lab.ipynb\n",
      "Ilka.py\n",
      "lab3_c.ipynb\n",
      "lab4_read_me.ipynb\n",
      "lab4_json.ipynb\n",
      "\n",
      "All items:\n",
      "LAB3.py\n",
      "git.ipynb\n",
      "lab3_t.ipynb\n",
      ".DS_Store\n",
      "lab3_func2.ipynb\n",
      "lab6_dirand.ipynb\n",
      "lab5_regex.ipynb\n",
      "lab3_func1.ipynb\n",
      "blackjack.ipynb\n",
      "lab4_generators.ipynb\n",
      "lab2.ipynb\n",
      "Ilka.ipynb\n",
      "lab4_math.ipynb\n",
      "lab4_date.ipynb\n",
      "lab6_builtin.ipynb\n",
      "sample-data.json\n",
      "lab.ipynb\n",
      "Ilka.py\n",
      "lab3_c.ipynb\n",
      "lab4_read_me.ipynb\n",
      "lab4_json.ipynb\n"
     ]
    }
   ],
   "source": [
    "import os\n",
    "path = input(\"Enter the directory path: \")\n",
    "if os.path.exists(path):\n",
    "    items = os.listdir(path)\n",
    "    print(\"Directories:\")\n",
    "    for item in items:\n",
    "        if os.path.isdir(os.path.join(path, item)):\n",
    "            print(item)\n",
    "    print(\"\\nFiles:\")\n",
    "    for item in items:\n",
    "        if os.path.isfile(os.path.join(path, item)):\n",
    "            print(item)\n",
    "    print(\"\\nAll items:\")\n",
    "    for item in items:\n",
    "        print(item)\n",
    "else:\n",
    "    print(\"The specified path does not exist!\")\n",
    "    \n",
    "\n"
   ]
  },
  {
   "cell_type": "code",
   "execution_count": 10,
   "metadata": {},
   "outputs": [
    {
     "name": "stdout",
     "output_type": "stream",
     "text": [
      "True\n",
      "True\n",
      "True\n",
      "True\n"
     ]
    }
   ],
   "source": [
    "\n",
    "import os\n",
    "path = str(input(\"Enter the directory path: \"))\n",
    "print(os.access(path, os.F_OK)) # Existence\n",
    "print(os.access(path, os.R_OK)) # Readability\n",
    "print(os.access(path, os.W_OK)) # Writeability\n",
    "print(os.access(path, os.X_OK)) # Executeability\n",
    "\n"
   ]
  },
  {
   "cell_type": "code",
   "execution_count": 5,
   "metadata": {},
   "outputs": [
    {
     "name": "stdout",
     "output_type": "stream",
     "text": [
      "Files and Folders\n",
      "LAB3.py\n",
      "git.ipynb\n",
      "lab3_t.ipynb\n",
      ".DS_Store\n",
      "lab3_func2.ipynb\n",
      "lab6_dirand.ipynb\n",
      "lab5_regex.ipynb\n",
      "lab3_func1.ipynb\n",
      "blackjack.ipynb\n",
      "lab4_generators.ipynb\n",
      "lab2.ipynb\n",
      "Ilka.ipynb\n",
      "lab4_math.ipynb\n",
      "lab4_date.ipynb\n",
      "lab6_builtin.ipynb\n",
      "sample-data.json\n",
      "lab.ipynb\n",
      "Ilka.py\n",
      "lab3_c.ipynb\n",
      "lab4_read_me.ipynb\n",
      "lab4_json.ipynb\n"
     ]
    }
   ],
   "source": [
    "import os\n",
    "path = str(input(\"Enter the directory path: \"))\n",
    "if os.access(path, os.F_OK):\n",
    "    list = os.listdir(path)\n",
    "    print(\"Files and Folders\")\n",
    "    for i in list:\n",
    "        print(i)\n",
    "else:\n",
    "    print(\"path is wrong! \")"
   ]
  },
  {
   "cell_type": "code",
   "execution_count": 11,
   "metadata": {},
   "outputs": [
    {
     "name": "stdout",
     "output_type": "stream",
     "text": [
      "161\n"
     ]
    }
   ],
   "source": [
    "file_name = 'test.txt'\n",
    "file = open(f\"/Users/muratkhanotynbai/Desktop/pp2/Ilka.ipynb\")\n",
    "sum = 0 \n",
    "for line in file:\n",
    "    sum+=1\n",
    "print(sum)\n"
   ]
  },
  {
   "cell_type": "code",
   "execution_count": 19,
   "metadata": {},
   "outputs": [
    {
     "ename": "FileNotFoundError",
     "evalue": "[Errno 2] No such file or directory: '/Users/muratkhanotynbai/Desktop/pp2/Ilka.py, w'",
     "output_type": "error",
     "traceback": [
      "\u001b[0;31m---------------------------------------------------------------------------\u001b[0m",
      "\u001b[0;31mFileNotFoundError\u001b[0m                         Traceback (most recent call last)",
      "Cell \u001b[0;32mIn[19], line 2\u001b[0m\n\u001b[1;32m      1\u001b[0m file_name \u001b[38;5;241m=\u001b[39m \u001b[38;5;124m'\u001b[39m\u001b[38;5;124mtext.txt\u001b[39m\u001b[38;5;124m'\u001b[39m\n\u001b[0;32m----> 2\u001b[0m file \u001b[38;5;241m=\u001b[39m \u001b[38;5;28;43mopen\u001b[39;49m\u001b[43m(\u001b[49m\u001b[38;5;124;43mf\u001b[39;49m\u001b[38;5;124;43m\"\u001b[39;49m\u001b[38;5;124;43m/Users/muratkhanotynbai/Desktop/pp2/Ilka.py, w\u001b[39;49m\u001b[38;5;124;43m\"\u001b[39;49m\u001b[43m)\u001b[49m\n\u001b[1;32m      3\u001b[0m content \u001b[38;5;241m=\u001b[39m \u001b[38;5;28mstr\u001b[39m(\u001b[38;5;28minput\u001b[39m(\u001b[38;5;124m\"\u001b[39m\u001b[38;5;124mwrite content: \u001b[39m\u001b[38;5;124m\"\u001b[39m))\n\u001b[1;32m      4\u001b[0m file\u001b[38;5;241m.\u001b[39mwrite(content)\n",
      "File \u001b[0;32m~/Library/Python/3.9/lib/python/site-packages/IPython/core/interactiveshell.py:310\u001b[0m, in \u001b[0;36m_modified_open\u001b[0;34m(file, *args, **kwargs)\u001b[0m\n\u001b[1;32m    303\u001b[0m \u001b[38;5;28;01mif\u001b[39;00m file \u001b[38;5;129;01min\u001b[39;00m {\u001b[38;5;241m0\u001b[39m, \u001b[38;5;241m1\u001b[39m, \u001b[38;5;241m2\u001b[39m}:\n\u001b[1;32m    304\u001b[0m     \u001b[38;5;28;01mraise\u001b[39;00m \u001b[38;5;167;01mValueError\u001b[39;00m(\n\u001b[1;32m    305\u001b[0m         \u001b[38;5;124mf\u001b[39m\u001b[38;5;124m\"\u001b[39m\u001b[38;5;124mIPython won\u001b[39m\u001b[38;5;124m'\u001b[39m\u001b[38;5;124mt let you open fd=\u001b[39m\u001b[38;5;132;01m{\u001b[39;00mfile\u001b[38;5;132;01m}\u001b[39;00m\u001b[38;5;124m by default \u001b[39m\u001b[38;5;124m\"\u001b[39m\n\u001b[1;32m    306\u001b[0m         \u001b[38;5;124m\"\u001b[39m\u001b[38;5;124mas it is likely to crash IPython. If you know what you are doing, \u001b[39m\u001b[38;5;124m\"\u001b[39m\n\u001b[1;32m    307\u001b[0m         \u001b[38;5;124m\"\u001b[39m\u001b[38;5;124myou can use builtins\u001b[39m\u001b[38;5;124m'\u001b[39m\u001b[38;5;124m open.\u001b[39m\u001b[38;5;124m\"\u001b[39m\n\u001b[1;32m    308\u001b[0m     )\n\u001b[0;32m--> 310\u001b[0m \u001b[38;5;28;01mreturn\u001b[39;00m \u001b[43mio_open\u001b[49m\u001b[43m(\u001b[49m\u001b[43mfile\u001b[49m\u001b[43m,\u001b[49m\u001b[43m \u001b[49m\u001b[38;5;241;43m*\u001b[39;49m\u001b[43margs\u001b[49m\u001b[43m,\u001b[49m\u001b[43m \u001b[49m\u001b[38;5;241;43m*\u001b[39;49m\u001b[38;5;241;43m*\u001b[39;49m\u001b[43mkwargs\u001b[49m\u001b[43m)\u001b[49m\n",
      "\u001b[0;31mFileNotFoundError\u001b[0m: [Errno 2] No such file or directory: '/Users/muratkhanotynbai/Desktop/pp2/Ilka.py, w'"
     ]
    }
   ],
   "source": [
    "file_name = 'text.txt'\n",
    "file = open(f\"/Users/muratkhanotynbai/Desktop/pp2/Ilka.py, w\")\n",
    "content = str(input(\"write content: \"))\n",
    "file.write(content)"
   ]
  },
  {
   "cell_type": "code",
   "execution_count": 20,
   "metadata": {},
   "outputs": [
    {
     "name": "stdout",
     "output_type": "stream",
     "text": [
      "Created file: A.txt\n",
      "Created file: B.txt\n",
      "Created file: C.txt\n",
      "Created file: D.txt\n",
      "Created file: E.txt\n",
      "Created file: F.txt\n",
      "Created file: G.txt\n",
      "Created file: H.txt\n",
      "Created file: I.txt\n",
      "Created file: J.txt\n",
      "Created file: K.txt\n",
      "Created file: L.txt\n",
      "Created file: M.txt\n",
      "Created file: N.txt\n",
      "Created file: O.txt\n",
      "Created file: P.txt\n",
      "Created file: Q.txt\n",
      "Created file: R.txt\n",
      "Created file: S.txt\n",
      "Created file: T.txt\n",
      "Created file: U.txt\n",
      "Created file: V.txt\n",
      "Created file: W.txt\n",
      "Created file: X.txt\n",
      "Created file: Y.txt\n",
      "Created file: Z.txt\n"
     ]
    }
   ],
   "source": [
    "import string\n",
    "for letter in string.ascii_uppercase:\n",
    "        filename = f\"{letter}.txt\"\n",
    "        try:\n",
    "            with open(filename, \"x\") as file:\n",
    "                file.write(f\"This is file {filename}\\n\")\n",
    "            print(f\"Created file: {filename}\")\n",
    "        except FileExistsError:\n",
    "            print(f\"File {filename} already exists. Skipping creation.\")\n",
    "            "
   ]
  },
  {
   "cell_type": "code",
   "execution_count": 26,
   "metadata": {},
   "outputs": [
    {
     "ename": "FileNotFoundError",
     "evalue": "[Errno 2] No such file or directory: '/Users/muratkhanotynbai/Desktop/pp2/Ilka.ipynb'",
     "output_type": "error",
     "traceback": [
      "\u001b[0;31m---------------------------------------------------------------------------\u001b[0m",
      "\u001b[0;31mFileNotFoundError\u001b[0m                         Traceback (most recent call last)",
      "Cell \u001b[0;32mIn[26], line 3\u001b[0m\n\u001b[1;32m      1\u001b[0m filename \u001b[38;5;241m=\u001b[39m \u001b[38;5;28mstr\u001b[39m(\u001b[38;5;28minput\u001b[39m(\u001b[38;5;124m\"\u001b[39m\u001b[38;5;124mfilename: \u001b[39m\u001b[38;5;124m\"\u001b[39m))\n\u001b[1;32m      2\u001b[0m \u001b[38;5;28;01mtry\u001b[39;00m:\n\u001b[0;32m----> 3\u001b[0m     \u001b[38;5;28;01mwith\u001b[39;00m \u001b[38;5;28;43mopen\u001b[39;49m\u001b[43m(\u001b[49m\u001b[38;5;124;43mf\u001b[39;49m\u001b[38;5;124;43m\"\u001b[39;49m\u001b[38;5;124;43m/Users/muratkhanotynbai/Desktop/pp2/Ilka.ipynb\u001b[39;49m\u001b[38;5;124;43m\"\u001b[39;49m\u001b[43m,\u001b[49m\u001b[43m \u001b[49m\u001b[38;5;124;43m'\u001b[39;49m\u001b[38;5;124;43mr\u001b[39;49m\u001b[38;5;124;43m'\u001b[39;49m\u001b[43m)\u001b[49m \u001b[38;5;28;01mas\u001b[39;00m orig:\n\u001b[1;32m      4\u001b[0m         content \u001b[38;5;241m=\u001b[39m orig\u001b[38;5;241m.\u001b[39mread()\n\u001b[1;32m      5\u001b[0m     \u001b[38;5;28;01mwith\u001b[39;00m \u001b[38;5;28mopen\u001b[39m(\u001b[38;5;124mf\u001b[39m\u001b[38;5;124m\"\u001b[39m\u001b[38;5;124m/Users/muratkhanotynbai/Desktop/pp2/Ilka.ipynb\u001b[39m\u001b[38;5;124m\"\u001b[39m, \u001b[38;5;124m'\u001b[39m\u001b[38;5;124mw\u001b[39m\u001b[38;5;124m'\u001b[39m) \u001b[38;5;28;01mas\u001b[39;00m copy:\n",
      "File \u001b[0;32m~/Library/Python/3.9/lib/python/site-packages/IPython/core/interactiveshell.py:310\u001b[0m, in \u001b[0;36m_modified_open\u001b[0;34m(file, *args, **kwargs)\u001b[0m\n\u001b[1;32m    303\u001b[0m \u001b[38;5;28;01mif\u001b[39;00m file \u001b[38;5;129;01min\u001b[39;00m {\u001b[38;5;241m0\u001b[39m, \u001b[38;5;241m1\u001b[39m, \u001b[38;5;241m2\u001b[39m}:\n\u001b[1;32m    304\u001b[0m     \u001b[38;5;28;01mraise\u001b[39;00m \u001b[38;5;167;01mValueError\u001b[39;00m(\n\u001b[1;32m    305\u001b[0m         \u001b[38;5;124mf\u001b[39m\u001b[38;5;124m\"\u001b[39m\u001b[38;5;124mIPython won\u001b[39m\u001b[38;5;124m'\u001b[39m\u001b[38;5;124mt let you open fd=\u001b[39m\u001b[38;5;132;01m{\u001b[39;00mfile\u001b[38;5;132;01m}\u001b[39;00m\u001b[38;5;124m by default \u001b[39m\u001b[38;5;124m\"\u001b[39m\n\u001b[1;32m    306\u001b[0m         \u001b[38;5;124m\"\u001b[39m\u001b[38;5;124mas it is likely to crash IPython. If you know what you are doing, \u001b[39m\u001b[38;5;124m\"\u001b[39m\n\u001b[1;32m    307\u001b[0m         \u001b[38;5;124m\"\u001b[39m\u001b[38;5;124myou can use builtins\u001b[39m\u001b[38;5;124m'\u001b[39m\u001b[38;5;124m open.\u001b[39m\u001b[38;5;124m\"\u001b[39m\n\u001b[1;32m    308\u001b[0m     )\n\u001b[0;32m--> 310\u001b[0m \u001b[38;5;28;01mreturn\u001b[39;00m \u001b[43mio_open\u001b[49m\u001b[43m(\u001b[49m\u001b[43mfile\u001b[49m\u001b[43m,\u001b[49m\u001b[43m \u001b[49m\u001b[38;5;241;43m*\u001b[39;49m\u001b[43margs\u001b[49m\u001b[43m,\u001b[49m\u001b[43m \u001b[49m\u001b[38;5;241;43m*\u001b[39;49m\u001b[38;5;241;43m*\u001b[39;49m\u001b[43mkwargs\u001b[49m\u001b[43m)\u001b[49m\n",
      "\u001b[0;31mFileNotFoundError\u001b[0m: [Errno 2] No such file or directory: '/Users/muratkhanotynbai/Desktop/pp2/Ilka.ipynb'"
     ]
    }
   ],
   "source": [
    "filename = str(input(\"filename: \"))\n",
    "try:\n",
    "    with open(f\"/Users/muratkhanotynbai/Desktop/pp2/Ilka.ipynb\", 'r') as orig:\n",
    "        content = orig.read()\n",
    "    with open(f\"/Users/muratkhanotynbai/Desktop/pp2/Ilka.ipynb\", 'w') as copy:\n",
    "        copy.write(content)\n",
    "except FileExistsError:\n",
    "    print(f\"Error: The file '{filename}' does not exist.\")"
   ]
  },
  {
   "cell_type": "code",
   "execution_count": 24,
   "metadata": {},
   "outputs": [],
   "source": [
    "import os\n",
    "filename = str(input(\"filename: \"))\n",
    "file = f\"/Users/muratkhanotynbai/Desktop/pp2/Ilka.ipynb\"\n",
    "if os.access(file, os.F_OK):\n",
    "    os.remove(file)\n",
    "else:\n",
    "    print(\"file does not exist!\")"
   ]
  }
 ],
 "metadata": {
  "kernelspec": {
   "display_name": "Python 3",
   "language": "python",
   "name": "python3"
  },
  "language_info": {
   "codemirror_mode": {
    "name": "ipython",
    "version": 3
   },
   "file_extension": ".py",
   "mimetype": "text/x-python",
   "name": "python",
   "nbconvert_exporter": "python",
   "pygments_lexer": "ipython3",
   "version": "3.9.6"
  }
 },
 "nbformat": 4,
 "nbformat_minor": 2
}
