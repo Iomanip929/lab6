{
 "cells": [
  {
   "cell_type": "code",
   "execution_count": 7,
   "metadata": {},
   "outputs": [
    {
     "name": "stdout",
     "output_type": "stream",
     "text": [
      "The product of the list is: 97200\n"
     ]
    }
   ],
   "source": [
    "import math\n",
    "numbers = list(map(int, input().split()))\n",
    "result = math.prod(numbers)\n",
    "print(\"The product of the list is:\", result)"
   ]
  },
  {
   "cell_type": "code",
   "execution_count": null,
   "metadata": {},
   "outputs": [
    {
     "name": "stdout",
     "output_type": "stream",
     "text": [
      "lower: 7\n",
      "upper 5\n"
     ]
    }
   ],
   "source": [
    "st = str(input())\n",
    "upper1 = 0\n",
    "lower1 = 0\n",
    "for i in st:\n",
    "    if i.isupper():\n",
    "        upper1+=1\n",
    "    if i.islower():\n",
    "        lower1+=1\n",
    "print('lower:', lower1)\n",
    "print('upper:', upper1)\n"
   ]
  },
  {
   "cell_type": "code",
   "execution_count": 5,
   "metadata": {},
   "outputs": [
    {
     "name": "stdout",
     "output_type": "stream",
     "text": [
      "False\n"
     ]
    }
   ],
   "source": [
    "string = str(input())\n",
    "strint1 = string.lower().replace(' ', '')\n",
    "reverse = strint1[::-1]\n",
    "print(strint1 == reverse)\n"
   ]
  },
  {
   "cell_type": "code",
   "execution_count": 4,
   "metadata": {},
   "outputs": [
    {
     "name": "stdout",
     "output_type": "stream",
     "text": [
      "Square root of 4 after 3.0 miliseconds is 2.0\n"
     ]
    }
   ],
   "source": [
    "import time\n",
    "import math\n",
    "san = int(input().strip())\n",
    "second = float(input().strip())\n",
    "time.sleep(second/1000)\n",
    "print(f\"Square root of {san} after {second} miliseconds is {math.sqrt(san)}\")"
   ]
  },
  {
   "cell_type": "code",
   "execution_count": 3,
   "metadata": {},
   "outputs": [
    {
     "name": "stdout",
     "output_type": "stream",
     "text": [
      "True\n"
     ]
    }
   ],
   "source": [
    "tuple = (True, 1, 1, 5)\n",
    "print(all(tuple))"
   ]
  }
 ],
 "metadata": {
  "kernelspec": {
   "display_name": "Python 3",
   "language": "python",
   "name": "python3"
  },
  "language_info": {
   "codemirror_mode": {
    "name": "ipython",
    "version": 3
   },
   "file_extension": ".py",
   "mimetype": "text/x-python",
   "name": "python",
   "nbconvert_exporter": "python",
   "pygments_lexer": "ipython3",
   "version": "3.9.6"
  }
 },
 "nbformat": 4,
 "nbformat_minor": 2
}
